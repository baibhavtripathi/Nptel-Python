{
 "cells": [
  {
   "cell_type": "markdown",
   "metadata": {},
   "source": [
    "# BMI Calculator "
   ]
  },
  {
   "cell_type": "code",
   "execution_count": 3,
   "metadata": {},
   "outputs": [
    {
     "name": "stdout",
     "output_type": "stream",
     "text": [
      "Your BMI is based on your height and weight. It's one way to see if you're at a healthy weight.\n",
      "Underweight: Your BMI is less than 18.5\n",
      "Healthy weight: Your BMI is 18.5 to 24.9\n",
      "Overweight: Your BMI is 25 to 29.9\n",
      "Obese: Your BMI is 30 or higher\n",
      "Please, Enter your name: Advait\n",
      "Please, Enter your height in meter: 1.73\n",
      "Please, Enter your weight in Kilogram(Kg): 73\n",
      " \n",
      "BMI Result:\n",
      "24.39\n",
      "Advait is not overweight\n",
      "Do you want to reset!, Enter yes(y) or no(n): n\n"
     ]
    }
   ],
   "source": [
    "print(\"Your BMI is based on your height and weight. It's one way to see if you're at a healthy weight.\\nUnderweight: Your BMI is less than 18.5\\nHealthy weight: Your BMI is 18.5 to 24.9\\nOverweight: Your BMI is 25 to 29.9\\nObese: Your BMI is 30 or higher\")\n",
    "def BMI_Calculator(Name, Height_meter, Weight_Kg) :\n",
    "    BMI = Weight_Kg / (Height_meter ** 2)\n",
    "    print(' ')\n",
    "    print(\"BMI Result:\")\n",
    "    print(round(BMI,2))\n",
    "    if BMI < 25 :\n",
    "        print(Name + \" is not overweight\")\n",
    "    else :\n",
    "        print(Name + \" is overweight\")\n",
    "        \n",
    "def reset():\n",
    "    return input('Do you want to reset!, Enter yes(y) or no(n): ').lower().startswith('y')\n",
    "#Input\n",
    "while True:\n",
    "    Name = input('Please, Enter your name: ')\n",
    "    Height_meter = float(input('Please, Enter your height in meter: '))\n",
    "    Weight_Kg = float(input('Please, Enter your weight in Kilogram(Kg): '))\n",
    "    BMI_Calculator(Name, Height_meter, Weight_Kg)\n",
    "    if not reset():\n",
    "        break"
   ]
  },
  {
   "cell_type": "markdown",
   "metadata": {},
   "source": [
    "# BMI Calculator using function"
   ]
  }
 ],
 "metadata": {
  "kernelspec": {
   "display_name": "Python 3",
   "language": "python",
   "name": "python3"
  },
  "language_info": {
   "codemirror_mode": {
    "name": "ipython",
    "version": 3
   },
   "file_extension": ".py",
   "mimetype": "text/x-python",
   "name": "python",
   "nbconvert_exporter": "python",
   "pygments_lexer": "ipython3",
   "version": "3.7.3"
  }
 },
 "nbformat": 4,
 "nbformat_minor": 2
}
