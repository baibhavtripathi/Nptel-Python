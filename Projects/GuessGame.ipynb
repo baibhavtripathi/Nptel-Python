{
 "cells": [
  {
   "cell_type": "code",
   "execution_count": null,
   "metadata": {},
   "outputs": [],
   "source": [
    "#project guess game... Uses Python3.7 and random. \n",
    "\n",
    "import random\n",
    "num = random.randint(1,100)\n",
    "guesses=[0]\n",
    "guess_count=0\n",
    "print(\"WELCOME TO GUESS GAME!\")\n",
    "print(\"If your guess is more than 10 away from my number, I'll tell you you're FAR\")\n",
    "print(\"If your guess is within 10 of my number, I'll tell you you're NEAR\")\n",
    "print(\"If your guess is farther than your most recent guess, I'll say you're getting FARTHER\")\n",
    "print(\"If your guess is closer than your most recent guess, I'll say you're getting NEARER\")\n",
    "print(\"LET'S PLAY!\")\n",
    "while True:\n",
    "    guess = int(input(\"Guess A Number between 1 and 100: \"))\n",
    "    guess_count +=1\n",
    "    if guess<1 or guess>100:\n",
    "        print(\"OUT OF BOUND\")\n",
    "        continue\n",
    "    if guess == num:\n",
    "        print(f'Congrats!, You won in {guess_count} times')\n",
    "        break\n",
    "    guesses.append(guess)\n",
    "    if guesses[-2]:  \n",
    "        if abs(num-guess) < abs(num-guesses[-2]):\n",
    "            print('Nearer!')\n",
    "        else:\n",
    "            print('farther!')\n",
    "   \n",
    "    else:\n",
    "        if abs(num-guess) <= 10:\n",
    "            print('NEAR!')\n",
    "        else:\n",
    "            print('FAR!')        "
   ]
  }
 ],
 "metadata": {
  "kernelspec": {
   "display_name": "Python 3",
   "language": "python",
   "name": "python3"
  },
  "language_info": {
   "codemirror_mode": {
    "name": "ipython",
    "version": 3
   },
   "file_extension": ".py",
   "mimetype": "text/x-python",
   "name": "python",
   "nbconvert_exporter": "python",
   "pygments_lexer": "ipython3",
   "version": "3.7.3"
  }
 },
 "nbformat": 4,
 "nbformat_minor": 2
}
